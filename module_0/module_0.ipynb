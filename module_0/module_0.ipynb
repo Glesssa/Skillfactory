{
 "cells": [
  {
   "cell_type": "markdown",
   "metadata": {},
   "source": [
    "# Алгоритм отгадывания числа"
   ]
  },
  {
   "cell_type": "code",
   "execution_count": 389,
   "metadata": {},
   "outputs": [],
   "source": [
    "import numpy as np   \n",
    "a, b = 1, 101\n",
    "number = np.random.randint(a,b) # Загадываем случайное число"
   ]
  },
  {
   "cell_type": "code",
   "execution_count": 395,
   "metadata": {},
   "outputs": [
    {
     "name": "stdout",
     "output_type": "stream",
     "text": [
      "Ваш алгоритм угадывает число в среднем за 101 попыток\n",
      "Ваш алгоритм угадывает число в среднем за 33 попыток\n",
      "Ваш алгоритм угадывает число в среднем за 5 попыток\n"
     ]
    }
   ],
   "source": [
    "# Алгоритм 1. Перебор чисел.\n",
    "\n",
    "def game_core_v1(number):    \n",
    "    count = 0 # Заводим счетчик попыток\n",
    "    \n",
    "    while True:\n",
    "        count+=1\n",
    "        \n",
    "        predict = np.random.randint(a,b) # предполагаемое число\n",
    "        \n",
    "        if number == predict: \n",
    "            return count # выход из цикла, если угадали\n",
    "        \n",
    "#Алгоритм 2. Перебор с условием   \n",
    "\n",
    "def game_core_v2(number):\n",
    "    count = 1\n",
    "    predict = np.random.randint(a,b) # предполагаемое число\n",
    "    \n",
    "    while number != predict:\n",
    "        count+=1\n",
    "        \n",
    "        if number > predict: \n",
    "            predict += 1\n",
    "            \n",
    "        elif number < predict: \n",
    "            predict -= 1        \n",
    "    return(count) # выход из цикла, если угадали\n",
    "\n",
    "#Алгорим 3. Метод отрезков.\n",
    "\n",
    "def game_core_v3(number):\n",
    "    count = 1 \n",
    "    minimum = (min(a,b)) #Определяем максимум и минимум диапазона\n",
    "    maximum = (max(a,b))\n",
    "    predict = (maximum + minimum) // 2 # Сужаем диапазон поиска ответа\n",
    "    \n",
    "    while number != predict:\n",
    "        count += 1\n",
    "        if number > predict: \n",
    "            minimum = predict # Переписываем переменную\n",
    "            predict = (maximum + minimum) // 2\n",
    "            \n",
    "        elif number < predict: \n",
    "            maximum = predict # Переписываем переменную\n",
    "            predict = (maximum + minimum) // 2\n",
    "    return(count) # выход из цикла, если угадали\n",
    "\n",
    "#Функция сравнения результатов\n",
    "def score_game(game_core):\n",
    "    count_ls = []\n",
    "    np.random.seed(1)  # фиксируем RANDOM SEED, чтобы ваш эксперимент был воспроизводим!\n",
    "    random_array = np.random.randint(1,101, size=(1000))\n",
    "    for number in random_array:\n",
    "        count_ls.append(game_core(number))\n",
    "    score = int(np.mean(count_ls))\n",
    "    print(f\"Ваш алгоритм угадывает число в среднем за {score} попыток\")\n",
    "    \n",
    "# Сравнение результатов  \n",
    "score_game (game_core_v1)\n",
    "score_game (game_core_v2)\n",
    "score_game (game_core_v3)"
   ]
  }
 ],
 "metadata": {
  "kernelspec": {
   "display_name": "Python 3",
   "language": "python",
   "name": "python3"
  },
  "language_info": {
   "codemirror_mode": {
    "name": "ipython",
    "version": 3
   },
   "file_extension": ".py",
   "mimetype": "text/x-python",
   "name": "python",
   "nbconvert_exporter": "python",
   "pygments_lexer": "ipython3",
   "version": "3.8.5"
  }
 },
 "nbformat": 4,
 "nbformat_minor": 4
}
